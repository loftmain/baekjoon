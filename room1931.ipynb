{
 "cells": [
  {
   "cell_type": "markdown",
   "metadata": {},
   "source": [
    "# 회의실배정\n",
    "시간 제한\t메모리 제한\t제출\t정답\t맞은 사람\t정답 비율 \n",
    "\n",
    "2 초\t128 MB\t27791\t7712\t5751\t28.882%\n",
    "### 문제\n",
    "한 개의 회의실이 있는데 이를 사용하고자 하는 N개의 회의들에 대하여 회의실 사용표를 만들려고 한다. 각 회의 I에 대해 시작시간과 끝나는 시간이 주어져 있고, _각 회의가 겹치지 않게 하면서 회의실을 사용할 수 있는 최대수의 회의를 찾아라._ 단, 회의는 한번 시작하면 중간에 중단될 수 없으며 한 회의가 끝나는 것과 동시에 다음 회의가 시작될 수 있다. 회의의 시작시간과 끝나는 시간이 같을 수도 있다. 이 경우에는 시작하자마자 끝나는 것으로 생각하면 된다.\n",
    "\n",
    "### 입력\n",
    "첫째 줄에 회의의 수 N(1 ≤ N ≤ 100,000)이 주어진다. 둘째 줄부터 N+1 줄까지 각 회의의 정보가 주어지는데 이것은 공백을 사이에 두고 회의의 시작시간과 끝나는 시간이 주어진다. 시작 시간과 끝나는 시간은 231-1보다 작거나 같은 자연수 또는 0이다.\n",
    "\n",
    "### 출력\n",
    "첫째 줄에 최대 사용할 수 있는 회의 수를 출력하여라."
   ]
  },
  {
   "cell_type": "markdown",
   "metadata": {},
   "source": [
    "11\n",
    "1 4\n",
    "3 5\n",
    "0 6\n",
    "5 7\n",
    "3 8\n",
    "5 9\n",
    "6 10\n",
    "8 11\n",
    "8 12\n",
    "2 13\n",
    "12 14\n",
    "\n"
   ]
  },
  {
   "cell_type": "code",
   "execution_count": 129,
   "metadata": {},
   "outputs": [
    {
     "name": "stdout",
     "output_type": "stream",
     "text": [
      "11\n",
      "1 4\n",
      "3 5\n",
      "0 6\n",
      "5 7\n",
      "3 8\n",
      "5 9\n",
      "6 10\n",
      "8 11\n",
      "8 12\n",
      "2 13\n",
      "12 14\n"
     ]
    }
   ],
   "source": [
    "N = int(input())\n",
    "mitting = []\n",
    "lastTime = 0\n",
    "for i in range(N):\n",
    "    start, fin = map(int, input().split(' '))\n",
    "     \n",
    "    mitting.append([start, int(fin), fin-start])\n",
    "    if fin > lastTime:\n",
    "        lastTime = fin\n",
    "\n"
   ]
  },
  {
   "cell_type": "code",
   "execution_count": 130,
   "metadata": {},
   "outputs": [],
   "source": [
    "mitting = sorted(mitting,key=lambda l:l[2])\n",
    "zeros = [ 0 for i in range(lastTime)]\n",
    "for j in mitting:\n",
    "    for z in range(j[0], j[1]+1):\n",
    "        if zeros[z-1] == 0:\n",
    "            zeros[z-1]=mitting.index(j)\n",
    "        else:\n",
    "            if zeros[z]  == 0:\n",
    "                zeros[z-1]=mitting.index(j)"
   ]
  },
  {
   "cell_type": "code",
   "execution_count": 131,
   "metadata": {},
   "outputs": [
    {
     "name": "stdout",
     "output_type": "stream",
     "text": [
      "4\n"
     ]
    }
   ],
   "source": [
    "print(len(list(set(zeros))))"
   ]
  },
  {
   "cell_type": "code",
   "execution_count": 178,
   "metadata": {},
   "outputs": [],
   "source": [
    "mitting = [\n",
    "    [1, 4, 3],\n",
    "    [3, 5, 2],\n",
    "    [0, 6, 6],\n",
    "    [5, 7, 2],\n",
    "    [3, 8, 5],\n",
    "    [5, 9, 4],\n",
    "    [6, 10, 4],\n",
    "    [8, 11, 3],\n",
    "    [8, 12, 4],\n",
    "    [2, 13, 11],\n",
    "    [12, 14, 2]\n",
    "]\n",
    "#for mit in mitting:\n",
    "#    print(mit[2])\n",
    "#mitting.sort(reverse=True)\n",
    "mitting\n",
    "mittingSort1 = sorted(mitting,key=lambda l:(l[1], l[0]))\n",
    "mittingSort2 = sorted(mitting,key=lambda l:(l[0], l[2]))"
   ]
  },
  {
   "cell_type": "code",
   "execution_count": 179,
   "metadata": {},
   "outputs": [
    {
     "data": {
      "text/plain": [
       "[[1, 4, 3],\n",
       " [3, 5, 2],\n",
       " [0, 6, 6],\n",
       " [5, 7, 2],\n",
       " [3, 8, 5],\n",
       " [5, 9, 4],\n",
       " [6, 10, 4],\n",
       " [8, 11, 3],\n",
       " [8, 12, 4],\n",
       " [2, 13, 11],\n",
       " [12, 14, 2]]"
      ]
     },
     "execution_count": 179,
     "metadata": {},
     "output_type": "execute_result"
    }
   ],
   "source": [
    "mittingSort1"
   ]
  },
  {
   "cell_type": "code",
   "execution_count": 154,
   "metadata": {},
   "outputs": [
    {
     "data": {
      "text/plain": [
       "[[0, 6, 6],\n",
       " [1, 4, 3],\n",
       " [2, 13, 11],\n",
       " [3, 5, 2],\n",
       " [3, 8, 5],\n",
       " [5, 7, 2],\n",
       " [5, 9, 4],\n",
       " [6, 10, 4],\n",
       " [8, 11, 3],\n",
       " [8, 12, 4],\n",
       " [12, 14, 2]]"
      ]
     },
     "execution_count": 154,
     "metadata": {},
     "output_type": "execute_result"
    }
   ],
   "source": [
    "mittingSort2"
   ]
  },
  {
   "cell_type": "code",
   "execution_count": 177,
   "metadata": {},
   "outputs": [
    {
     "name": "stdout",
     "output_type": "stream",
     "text": [
      "[1, 4, 3]\n",
      "[5, 7, 2]\n",
      "[8, 11, 3]\n",
      "[12, 14, 2]\n"
     ]
    }
   ],
   "source": [
    "t = 1\n",
    "now = 0 \n",
    "list1=[]\n",
    "#for i in mittingSort2[:-1]:\n",
    "while t != -1:\n",
    "    front, rear , back= mittingSort2[now][0], mittingSort2[now][1], mittingSort2[now][2]\n",
    "    if (back > mittingSort2[t][2]) & (rear > mittingSort2[t][1]):\n",
    "        print(mittingSort2[t])\n",
    "        now = t\n",
    "        list1.append(mittingSort2[t])\n",
    "    elif rear >= mittingSort2[t][1]:\n",
    "        \n",
    "    elif rear <= mittingSort2[t][0]:\n",
    "        print(mittingSort2[t])\n",
    "        now = t\n",
    "        list1.append(mittingSort2[t])\n",
    "        \n",
    "    \n",
    "    t += 1\n",
    "    if t == 11:\n",
    "        break"
   ]
  },
  {
   "cell_type": "code",
   "execution_count": 55,
   "metadata": {},
   "outputs": [],
   "source": [
    "lastTime = 14\n",
    "small = 14\n",
    "shortTime = 11"
   ]
  },
  {
   "cell_type": "code",
   "execution_count": 56,
   "metadata": {},
   "outputs": [
    {
     "name": "stdout",
     "output_type": "stream",
     "text": [
      "[3, 5, 2]\n",
      "[3, 5, 2]\n",
      "[3, 5, 2]\n",
      "[3, 5, 2]\n",
      "[3, 5, 2]\n",
      "[3, 5, 2]\n",
      "[3, 5, 2]\n",
      "[3, 5, 2]\n",
      "[3, 5, 2]\n",
      "[3, 5, 2]\n",
      "[3, 5, 2]\n",
      "[3, 5, 2]\n",
      "[3, 5, 2]\n",
      "[3, 5, 2]\n"
     ]
    }
   ],
   "source": [
    "for i in range(lastTime):\n",
    "    for j in mitting:\n",
    "        if small >= j[0]:\n",
    "            small = j[0]\n",
    "            shortTime = j[2]\n",
    "            #mitting.pop(j)\n",
    "            print(j)\n",
    "            break\n",
    "\n",
    "        \n",
    "        "
   ]
  },
  {
   "cell_type": "code",
   "execution_count": 105,
   "metadata": {},
   "outputs": [
    {
     "data": {
      "text/plain": [
       "[[3, 5, 2],\n",
       " [5, 7, 2],\n",
       " [12, 14, 2],\n",
       " [1, 4, 3],\n",
       " [8, 11, 3],\n",
       " [5, 9, 4],\n",
       " [6, 10, 4],\n",
       " [8, 12, 4],\n",
       " [3, 8, 5],\n",
       " [0, 6, 6],\n",
       " [2, 13, 11]]"
      ]
     },
     "execution_count": 105,
     "metadata": {},
     "output_type": "execute_result"
    }
   ],
   "source": [
    "\n",
    "zeros = [ 0 for i in range(lastTime)]\n",
    "mitting"
   ]
  },
  {
   "cell_type": "code",
   "execution_count": 106,
   "metadata": {},
   "outputs": [
    {
     "data": {
      "text/plain": [
       "[0, 0, 0, 0, 0, 0, 0, 0, 0, 0, 0, 0, 0, 0]"
      ]
     },
     "execution_count": 106,
     "metadata": {},
     "output_type": "execute_result"
    }
   ],
   "source": [
    "zeros"
   ]
  },
  {
   "cell_type": "code",
   "execution_count": 107,
   "metadata": {},
   "outputs": [],
   "source": [
    "for j in mitting:\n",
    "    for z in range(j[0], j[1]+1):\n",
    "        if zeros[z-1] == 0:\n",
    "            zeros[z-1]=mitting.index(j)\n",
    "        else:\n",
    "            if zeros[z]  == 0:\n",
    "                zeros[z-1]=mitting.index(j)"
   ]
  },
  {
   "cell_type": "code",
   "execution_count": 108,
   "metadata": {},
   "outputs": [
    {
     "data": {
      "text/plain": [
       "[3, 3, 3, 3, 1, 1, 1, 4, 4, 4, 4, 2, 2, 2]"
      ]
     },
     "execution_count": 108,
     "metadata": {},
     "output_type": "execute_result"
    }
   ],
   "source": [
    "zeros"
   ]
  },
  {
   "cell_type": "code",
   "execution_count": 95,
   "metadata": {},
   "outputs": [
    {
     "data": {
      "text/plain": [
       "[[3, 5, 2],\n",
       " [5, 7, 2],\n",
       " [12, 14, 2],\n",
       " [1, 4, 3],\n",
       " [8, 11, 3],\n",
       " [5, 9, 4],\n",
       " [6, 10, 4],\n",
       " [8, 12, 4],\n",
       " [3, 8, 5],\n",
       " [0, 6, 6],\n",
       " [2, 13, 11]]"
      ]
     },
     "execution_count": 95,
     "metadata": {},
     "output_type": "execute_result"
    }
   ],
   "source": [
    "mitting"
   ]
  },
  {
   "cell_type": "code",
   "execution_count": 132,
   "metadata": {},
   "outputs": [
    {
     "data": {
      "text/plain": [
       "[[3, 5, 2],\n",
       " [5, 7, 2],\n",
       " [12, 14, 2],\n",
       " [1, 4, 3],\n",
       " [8, 11, 3],\n",
       " [5, 9, 4],\n",
       " [6, 10, 4],\n",
       " [8, 12, 4],\n",
       " [3, 8, 5],\n",
       " [0, 6, 6],\n",
       " [2, 13, 11]]"
      ]
     },
     "execution_count": 132,
     "metadata": {},
     "output_type": "execute_result"
    }
   ],
   "source": [
    "mitting"
   ]
  },
  {
   "cell_type": "code",
   "execution_count": null,
   "metadata": {},
   "outputs": [],
   "source": []
  }
 ],
 "metadata": {
  "kernelspec": {
   "display_name": "Python 3",
   "language": "python",
   "name": "python3"
  },
  "language_info": {
   "codemirror_mode": {
    "name": "ipython",
    "version": 3
   },
   "file_extension": ".py",
   "mimetype": "text/x-python",
   "name": "python",
   "nbconvert_exporter": "python",
   "pygments_lexer": "ipython3",
   "version": "3.7.3"
  }
 },
 "nbformat": 4,
 "nbformat_minor": 2
}
