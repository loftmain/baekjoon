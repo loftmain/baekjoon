{
 "cells": [
  {
   "cell_type": "markdown",
   "metadata": {},
   "source": [
    "# 개미\n",
    "시간 제한\t메모리 제한\t제출\t정답\t맞은 사람\t정답 비율\n",
    "\n",
    "1 초\t128 MB\t3154\t1436\t1131\t48.046%\n",
    "\n",
    "\n",
    "### 문제\n",
    "개미 여러 마리가 길이가 lcm인 막대 위에 있다. 각 개미의 이동 속도는 모두 일정하며, 1cm/s이다. 개미가 막대의 마지막까지 걸어간다면, 개미는 그 즉시 떨어지게 된다. 또, 두 개미가 만나게 된다면, 방향을 반대로 바꾸어 걸어가게 된다.\n",
    "\n",
    "가장 처음에 막대 상에서 개미의 위치를 알고 있다. 하지만, 개미가 어느 방향으로 움직이는 지는 알 수가 없다. 이때, 모든 개미가 땅으로 떨어질 때까지 가능한 시간 중 가장 빠른 시간과 느린 시간을 구하는 프로그램을 작성하시오.\n",
    "\n",
    "\n",
    "### 입력\n",
    "첫째 줄에 테스트 케이스의 개수가 주어진다. 각 테스트 케이스의 첫째 줄에는 막대의 길이와 개미의 수 n이 주어진다. 다음 n개 줄에는 숫자가 하나씩 주어지며, 이 숫자는 개미의 초기 위치를 나타낸다. 입력으로 주어지는 모든 수는 1,000,000보다 작거나 같으며, 공백으로 구분되어져 있다.\n",
    "\n",
    "\n",
    "### 출력\n",
    "각 테스트 케이스에 대해서, 두 숫자를 출력한다. 첫 번째 숫자는 개미가 모두 땅으로 떨어지는 가능한 시간 중 가장 빠른 시간, 두 번째 숫자는 가장 늦은 시간이다."
   ]
  },
  {
   "cell_type": "markdown",
   "metadata": {},
   "source": [
    "2\n",
    "\n",
    "10 3\n",
    "\n",
    "2\n",
    "\n",
    "6\n",
    "\n",
    "7\n",
    "\n",
    "214 7\n",
    "\n",
    "11\n",
    "\n",
    "12\n",
    "\n",
    "7\n",
    "\n",
    "13\n",
    "\n",
    "176\n",
    "\n",
    "23\n",
    "\n",
    "191\n"
   ]
  },
  {
   "cell_type": "code",
   "execution_count": 48,
   "metadata": {},
   "outputs": [
    {
     "name": "stdout",
     "output_type": "stream",
     "text": [
      "2\n",
      "10 3\n",
      "2\n",
      "6\n",
      "7\n",
      "214 7\n",
      "11\n",
      "12\n",
      "7\n",
      "13\n",
      "176\n",
      "23\n",
      "191\n"
     ]
    }
   ],
   "source": [
    "import sys\n",
    "\n",
    "#testCase = int(sys.stdin.readline())\n",
    "testCase = int(input())\n",
    "#length, num = map(int, sys.stdin.readline().split())\n",
    "\n",
    "antLocationList = []\n",
    "langthList = []\n",
    "\n",
    "for case in range(testCase):\n",
    "    antLocationList.append([])\n",
    "    length, num = map(int, input().split())\n",
    "    langthList.append(length)\n",
    "    for ant in range(num):\n",
    "        antLocationList[case].append(int(input()))\n"
   ]
  },
  {
   "cell_type": "code",
   "execution_count": 137,
   "metadata": {},
   "outputs": [],
   "source": [
    "def max_timecount(length, antLocation):\n",
    "    antLocation.sort()\n",
    "    if length - antLocation[0] > -(antLocation[-1] - length):\n",
    "        return length - antLocation[0] \n",
    "    else:\n",
    "        return -(antLocation[-1] - length)\n",
    "def min_timecount(length,  antLocation):\n",
    "    antLocation.sort()\n",
    "    for i in antLocation:\n",
    "        if i > int(length/2):\n",
    "            index = antLocation.index(i)\n",
    "            break\n",
    "    if abs(antLocation[index] - int(length/2)) < abs(antLocation[index-1] - int(length/2)):\n",
    "       \n",
    "        if antLocation[index] - int(length/2) >= 0:\n",
    "            return (length - antLocation[index])\n",
    "        else:\n",
    "            return(antLocation[index])\n",
    "    else:\n",
    "        if antLocation[index-1] - int(length/2) >= 0:\n",
    "            return(length - antLocation[index-1])\n",
    "        else:\n",
    "            return(antLocation[index])"
   ]
  },
  {
   "cell_type": "code",
   "execution_count": 138,
   "metadata": {},
   "outputs": [
    {
     "name": "stdout",
     "output_type": "stream",
     "text": [
      "4 8\n",
      "38 207\n"
     ]
    }
   ],
   "source": [
    "for case in range(testCase):\n",
    "    print(min_timecount(langthList[case], antLocationList[case]), max_timecount(langthList[case], antLocationList[case]))\n"
   ]
  },
  {
   "cell_type": "code",
   "execution_count": 113,
   "metadata": {},
   "outputs": [
    {
     "data": {
      "text/plain": [
       "38"
      ]
     },
     "execution_count": 113,
     "metadata": {},
     "output_type": "execute_result"
    }
   ],
   "source": [
    "langthList[1] - antLocationList[1][5]\n",
    "#langthList[1]"
   ]
  },
  {
   "cell_type": "code",
   "execution_count": 121,
   "metadata": {},
   "outputs": [
    {
     "data": {
      "text/plain": [
       "176"
      ]
     },
     "execution_count": 121,
     "metadata": {},
     "output_type": "execute_result"
    }
   ],
   "source": [
    "antLocationList[1][5]"
   ]
  }
 ],
 "metadata": {
  "kernelspec": {
   "display_name": "Python 3",
   "language": "python",
   "name": "python3"
  },
  "language_info": {
   "codemirror_mode": {
    "name": "ipython",
    "version": 3
   },
   "file_extension": ".py",
   "mimetype": "text/x-python",
   "name": "python",
   "nbconvert_exporter": "python",
   "pygments_lexer": "ipython3",
   "version": "3.7.3"
  }
 },
 "nbformat": 4,
 "nbformat_minor": 2
}
